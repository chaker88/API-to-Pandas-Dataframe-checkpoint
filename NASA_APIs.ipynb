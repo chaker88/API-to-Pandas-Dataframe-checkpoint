{
 "cells": [
  {
   "cell_type": "code",
   "execution_count": 1,
   "id": "2c44e1b0-bde2-4e9e-b811-95f55d029c69",
   "metadata": {},
   "outputs": [],
   "source": [
    "import requests\n",
    "import pandas as pd\n"
   ]
  },
  {
   "cell_type": "code",
   "execution_count": 2,
   "id": "08ee2f1e-8401-4f4d-9bf4-1433d52ca68f",
   "metadata": {},
   "outputs": [],
   "source": [
    "api_key = \"qNwEnvYJuwSj4WGXSsnw1YeqgAuAa6HjbCc96pkW\"\n",
    "url = f\"https://api.nasa.gov/planetary/apod?api_key={api_key}\"\n",
    "response = requests.get(url)\n",
    "data = response.json()\n"
   ]
  },
  {
   "cell_type": "code",
   "execution_count": 3,
   "id": "9964aef9-c77c-4bcd-b0a2-fcbb367af19f",
   "metadata": {},
   "outputs": [
    {
     "data": {
      "text/html": [
       "<img src=\"https://apod.nasa.gov/apod/image/2401/VenusPhases_Gonzales_960.jpg\"/>"
      ],
      "text/plain": [
       "<IPython.core.display.Image object>"
      ]
     },
     "execution_count": 3,
     "metadata": {},
     "output_type": "execute_result"
    }
   ],
   "source": [
    "from IPython.display import Image\n",
    "\n",
    "image_url = data['url']\n",
    "Image(url=image_url)\n"
   ]
  },
  {
   "cell_type": "code",
   "execution_count": 4,
   "id": "b22e57b2-0224-4309-b287-522a7c21e374",
   "metadata": {},
   "outputs": [],
   "source": [
    "df = pd.DataFrame([data])\n"
   ]
  },
  {
   "cell_type": "code",
   "execution_count": 6,
   "id": "9e911c79-dc2c-482b-864c-792271d68de2",
   "metadata": {},
   "outputs": [],
   "source": [
    "\n",
    "\n",
    "# Extracting specific information\n",
    "date = data['date']\n",
    "title = data['title']\n",
    "explanation = data['explanation']\n",
    "image_url = data['url']\n",
    "\n",
    "# Creating a clean DataFrame\n",
    "clean_df = pd.DataFrame({\n",
    "    'Date': [date],\n",
    "    'Title': [title],\n",
    "    'Explanation': [explanation],\n",
    "    'Image URL': [image_url]\n",
    "})\n",
    "\n"
   ]
  },
  {
   "cell_type": "code",
   "execution_count": 7,
   "id": "0bac16c2-1a53-495b-9da0-5b0390b14496",
   "metadata": {},
   "outputs": [
    {
     "data": {
      "text/html": [
       "<div>\n",
       "<style scoped>\n",
       "    .dataframe tbody tr th:only-of-type {\n",
       "        vertical-align: middle;\n",
       "    }\n",
       "\n",
       "    .dataframe tbody tr th {\n",
       "        vertical-align: top;\n",
       "    }\n",
       "\n",
       "    .dataframe thead th {\n",
       "        text-align: right;\n",
       "    }\n",
       "</style>\n",
       "<table border=\"1\" class=\"dataframe\">\n",
       "  <thead>\n",
       "    <tr style=\"text-align: right;\">\n",
       "      <th></th>\n",
       "      <th>Date</th>\n",
       "      <th>Title</th>\n",
       "      <th>Explanation</th>\n",
       "      <th>Image URL</th>\n",
       "    </tr>\n",
       "  </thead>\n",
       "  <tbody>\n",
       "    <tr>\n",
       "      <th>0</th>\n",
       "      <td>2024-01-08</td>\n",
       "      <td>The Phases of Venus</td>\n",
       "      <td>Venus goes through phases.  Just like our Moon...</td>\n",
       "      <td>https://apod.nasa.gov/apod/image/2401/VenusPha...</td>\n",
       "    </tr>\n",
       "  </tbody>\n",
       "</table>\n",
       "</div>"
      ],
      "text/plain": [
       "         Date                Title  \\\n",
       "0  2024-01-08  The Phases of Venus   \n",
       "\n",
       "                                         Explanation  \\\n",
       "0  Venus goes through phases.  Just like our Moon...   \n",
       "\n",
       "                                           Image URL  \n",
       "0  https://apod.nasa.gov/apod/image/2401/VenusPha...  "
      ]
     },
     "execution_count": 7,
     "metadata": {},
     "output_type": "execute_result"
    }
   ],
   "source": [
    "clean_df.head()"
   ]
  },
  {
   "cell_type": "code",
   "execution_count": null,
   "id": "af8850a7-473f-4ec3-8d9f-09f360a13b2c",
   "metadata": {},
   "outputs": [],
   "source": []
  }
 ],
 "metadata": {
  "kernelspec": {
   "display_name": "Python [conda env:myenv1] *",
   "language": "python",
   "name": "conda-env-myenv1-py"
  },
  "language_info": {
   "codemirror_mode": {
    "name": "ipython",
    "version": 3
   },
   "file_extension": ".py",
   "mimetype": "text/x-python",
   "name": "python",
   "nbconvert_exporter": "python",
   "pygments_lexer": "ipython3",
   "version": "3.8.18"
  }
 },
 "nbformat": 4,
 "nbformat_minor": 5
}
